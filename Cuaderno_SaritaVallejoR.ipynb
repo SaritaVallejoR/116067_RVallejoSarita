{
 "cells": [
  {
   "cell_type": "markdown",
   "metadata": {},
   "source": [
    "# TALLER 1"
   ]
  },
  {
   "cell_type": "markdown",
   "metadata": {},
   "source": [
    "Sin utilizar el comando abs, escribir un programa que calcule e imprima el valor absoluto de cualquier número (sea entero o decimal). "
   ]
  },
  {
   "cell_type": "code",
   "execution_count": 1,
   "metadata": {},
   "outputs": [
    {
     "name": "stdout",
     "output_type": "stream",
     "text": [
      "Digite cualquier número: -234\n",
      "El valor absoluto es:  234.0\n"
     ]
    }
   ],
   "source": [
    "num1=float(input('Digite cualquier número: '))    #Variable que guarda un \n",
    "                                                  #número entero o decimal\n",
    "if num1>0:\n",
    "    print('El valor absoluto es:',num1)           #Si el número es positivo lo\n",
    "                                                  #deja igual\n",
    "else:\n",
    "    num1=num1*-1\n",
    "    print('El valor absoluto es: ',num1)          #Si el número es negativo lo\n",
    "                                                  #multiplica por -1"
   ]
  },
  {
   "cell_type": "markdown",
   "metadata": {},
   "source": [
    "Leer un número entero y escribirlo en reversa. Por ejemplo, 461975 será 579164. No utilizar comandos de ordenamiento. "
   ]
  },
  {
   "cell_type": "code",
   "execution_count": 4,
   "metadata": {},
   "outputs": [
    {
     "name": "stdout",
     "output_type": "stream",
     "text": [
      "Ingrese un número entero para escribir en reversa: 983737494\n",
      "494737389"
     ]
    }
   ],
   "source": [
    "num2=int(input('Ingrese un número entero para escribir en reversa: '))\n",
    "#Variable que guarda un número entero\n",
    "\n",
    "while num2!=0:                           \n",
    "    residuo=num2%10                           \n",
    "    num2=int(num2/10)\n",
    "    print('%d'%(residuo), end='') #Mientras el número sea diferente de cero\n",
    "                                  #el residuo del número será el último dígito,\n",
    "                                  #que se va anexando al final del ciclo"
   ]
  },
  {
   "cell_type": "markdown",
   "metadata": {},
   "source": [
    "Leer un número entero de 3 dígitos y determinar si contiene el dígito 8."
   ]
  },
  {
   "cell_type": "code",
   "execution_count": 5,
   "metadata": {},
   "outputs": [
    {
     "name": "stdout",
     "output_type": "stream",
     "text": [
      "Digite un número entero de 3 dígitos: 3456\n",
      "El número ingresado es inválido, ingrese de nuevo.\n",
      "Digite un número entero de 3 dígitos: 234\n",
      "El número digitado NO contiene el 8\n"
     ]
    }
   ],
   "source": [
    "num3=int(input('Digite un número entero de 3 dígitos: '))\n",
    "#Variable que guarda un número entero de 3 dígitos\n",
    "interruptor=1\n",
    "\n",
    "while interruptor!=0:\n",
    "    if num3<0:\n",
    "        num3=num3*-1      #Si el número es negativo se convierte a positivo\n",
    "    num3=str(num3)        #Se convierte el número a cadena de texto\n",
    "    if len(num3)!=3:      #Se evalua que la longitud de la cadena sea 3\n",
    "        print('El número ingresado es inválido, ingrese de nuevo.')\n",
    "        num3=int(input('Digite un número entero de 3 dígitos: '))\n",
    "    else:\n",
    "        interruptor-=1    #Cuando se ingresen los datos correctos el \n",
    "                          #interruptor nos ayuda a cerrar el ciclo\n",
    "\n",
    "if '8' in num3:\n",
    "    print('El número digitado CONTIENE el 8')     \n",
    "else:\n",
    "    print('El número digitado NO contiene el 8')"
   ]
  },
  {
   "cell_type": "markdown",
   "metadata": {},
   "source": [
    "Leer un número entero positivo y determinar la suma de sus dígitos pares. Por ejemplo, en el número 124, los dígitos pares son el 2 y el 4 y su suma vale 6. "
   ]
  },
  {
   "cell_type": "code",
   "execution_count": 6,
   "metadata": {},
   "outputs": [
    {
     "name": "stdout",
     "output_type": "stream",
     "text": [
      "Ingrese un número: 2456\n",
      "La suma de los números pares es: 12\n"
     ]
    }
   ],
   "source": [
    "num4=int(input('Ingrese un número: '))  #Variable que guarda un número entero\n",
    "interruptor=1                           #Variable para cerrar el ciclo\n",
    "suma=0                                  #Variable para sumar los números pares\n",
    "\n",
    "while interruptor!=0:                    #Este ciclo no permite la digitación\n",
    "                                         #de números negativos \n",
    "    if num4<0:\n",
    "        print('El número ingresado no es válido, ingrese otro.')\n",
    "        num4=int(input('Ingrese un número: '))\n",
    "    else:\n",
    "        interruptor-=1                 \n",
    "    \n",
    "while num4>0:                            #Mientras el número sea positivo se\n",
    "    ud=num4-int(num4/10)*10              #calcula su último dígito, se evalua\n",
    "    num4=int(num4/10)                    #si es par y se agrega sumando a la \n",
    "    if int(ud/2)*2==ud:                  #var suma\n",
    "        suma+=ud\n",
    "print('La suma de los números pares es:',suma)"
   ]
  },
  {
   "cell_type": "markdown",
   "metadata": {},
   "source": [
    "Leer un número entero y determinar el número de cincos que están consecutivos en un número. Por ejemplo, en 5512355551 hay 6 cincos consecutivos. Ahora, en 234555234512 solo hay 3 cincos consecutivos."
   ]
  },
  {
   "cell_type": "code",
   "execution_count": 7,
   "metadata": {},
   "outputs": [
    {
     "name": "stdout",
     "output_type": "stream",
     "text": [
      "Ingrese un número entero: 555435566527\n",
      "El número de cincos consecutivos que hay, es:  5\n"
     ]
    }
   ],
   "source": [
    "num5=input('Ingrese un número entero: ')  #Variable que guarda una cadena de\n",
    "contador=0                                #texto de un número entero\n",
    "\n",
    "for i in range(len(num5)):                #Se itera en la longitud de la cadena\n",
    "    if num5[i]=='5':\n",
    "        if num5[i-1]=='5' and num5[i-2]=='5':\n",
    "            contador+=1                   #Si el número es cinco, se evaluan\n",
    "        elif num5[i-1]=='5':              #sus dos posiciones anteriores y su\n",
    "            contador+=2                   #posición inmediatamente anterior,\n",
    "                                          #sumando así al contador\n",
    "                                          \n",
    "print('El número de cincos consecutivos que hay, es: ',contador)"
   ]
  },
  {
   "cell_type": "markdown",
   "metadata": {},
   "source": [
    "Leer un número entero y determinar si la suma de sus dígitos es un número de Fibonacci."
   ]
  },
  {
   "cell_type": "code",
   "execution_count": 8,
   "metadata": {},
   "outputs": [
    {
     "name": "stdout",
     "output_type": "stream",
     "text": [
      "Escriba un número entero: 53\n",
      "La suma de sus dígitos es un número de fibonacci\n"
     ]
    }
   ],
   "source": [
    "num6=int(input('Escriba un número entero: ')) #Variable que guarda un número entero \n",
    "suma=0                                        #Variable que guarda suma de dígitos\n",
    "fibonacci=[]                                  #Lista vacía para agregar números fibonacci                                      \n",
    "\n",
    "if num6<0:                                    #Condicional para convertir un número\n",
    "    num6=num6*-1                              #negativo en positivo\n",
    "    \n",
    "while num6>0:\n",
    "    ud=num6-int(num6/10)*10                   #Se calcula el último digito del \n",
    "    num6=int(num6/10)                         #número ingresado y se va sumando\n",
    "    suma+=ud                                  #cíclicamente. Se le asigna un\n",
    "                                              #valor al número, es decir, sin su\n",
    "                                              #último digito\n",
    "a,b=0,1 \n",
    "while a<suma:                                 #Se calculan los números fibonacci\n",
    "    a,b=b,a+b                                 #y se agregan a la lista vacía\n",
    "    fibonacci.append(b)\n",
    "\n",
    "if suma in fibonacci:\n",
    "    print('La suma de sus dígitos es un número de fibonacci')\n",
    "else:\n",
    "    print('La suma de sus dígitos NO es un número de fibonacci')"
   ]
  },
  {
   "cell_type": "markdown",
   "metadata": {},
   "source": [
    "Leer un número entero positivo y determine si existen en el número dígitos repetidos. Reporte cuales son los dígitos repetidos. "
   ]
  },
  {
   "cell_type": "code",
   "execution_count": 2,
   "metadata": {},
   "outputs": [
    {
     "name": "stdout",
     "output_type": "stream",
     "text": [
      "Escriba un número entero: 558377648738784656656565384784\n",
      "Los números repetidos son: ['5', '7', '8', '3', '4', '6']\n"
     ]
    }
   ],
   "source": [
    "num7=int(input('Escriba un número entero: ')) #Variable que guarda un número\n",
    "interruptor=1                                 #entero\n",
    "unico=[]                                      \n",
    "repetido=[]\n",
    "\n",
    "while interruptor!=0:                         #Este ciclo no permite la digitación\n",
    "                                              #de números negativos \n",
    "    if num7<0:\n",
    "        print('El número ingresado no es válido, ingrese otro.')\n",
    "        num7=int(input('Ingrese un número: '))\n",
    "    else:\n",
    "        interruptor-=1\n",
    "\n",
    "num7=str(num7)                                #Se convierte el número en cadena de\n",
    "for i in range(len(num7)):                    #texto, para iterar en su longitud\n",
    "    if num7[i] not in unico:                  \n",
    "        unico.append(num7[i])                 #Si el número ya se encuentra en una\n",
    "    else:                                     #lista, se agrega a la otra, formando\n",
    "        if num7[i] not in repetido:           #así la lista repetido\n",
    "            repetido.append(num7[i])\n",
    "\n",
    "print('Los números repetidos son:',repetido)"
   ]
  },
  {
   "cell_type": "markdown",
   "metadata": {},
   "source": [
    "Iterar a través de los primeros cien enteros positivos, buscando los múltiplos de 3 e imprimiendo y almacenándolos en una lista hasta encontrar los primeros 15 de ellos. Una vez encontrados, continuar iterando en busca de los múltiplos de 4 y almacenarlos en otra lista. "
   ]
  },
  {
   "cell_type": "code",
   "execution_count": 3,
   "metadata": {},
   "outputs": [
    {
     "name": "stdout",
     "output_type": "stream",
     "text": [
      "Los primeros 15 múltiplos de 3, de 0 a 100, son:  [0, 3, 6, 9, 12, 15, 18, 21, 24, 27, 30, 33, 36, 39, 42]\n",
      "Los siguientes múltiplos de 4, a partir del último múltiplo de 3, son:  [44, 48, 52, 56, 60, 64, 68, 72, 76, 80, 84, 88, 92, 96, 100]\n"
     ]
    }
   ],
   "source": [
    "acum_mult3=[]                         #Lista vacía para múltiplos de 3\n",
    "acum_mult4=[]                         #Lista vacía para múltiplos de 4\n",
    "contador=0\n",
    "\n",
    "for n in range(0,101):                #Se itera de 1 a 100 y se evalua si el\n",
    "    if n%3==0 and contador<15:        #residuo es cero para /3 y el contador menor \n",
    "        contador+=1                   #que 15. Si el número cumple las condiciones\n",
    "        acum_mult3.append(n)          #se agrega a la lista vacía para múltiplos\n",
    "        s=n                           #de 3. Adicionalmente se guarda el último \n",
    "                                      #número en una variable para allí comenzar\n",
    "                                      #la siguiente iteración\n",
    "print('Los primeros 15 múltiplos de 3, de 0 a 100, son: ',acum_mult3)\n",
    "\n",
    "for m in range(s,101):                #Se itera desde el último número de la \n",
    "    if m%4==0:                        #iteración anterior y se evalua si el \n",
    "        acum_mult4.append(m)          #residuo es cero para /4. Este número se \n",
    "                                      #guarda en la lista vacía para múltiplos\n",
    "                                      #de 4\n",
    "                                      \n",
    "print('Los siguientes múltiplos de 4, a partir del último\\\n",
    " múltiplo de 3, son: ',acum_mult4)"
   ]
  },
  {
   "cell_type": "markdown",
   "metadata": {},
   "source": [
    "Hacer un programa que lea las coordenadas (x1,y1,r1) y (x2,y2,r2) que corresponden al centro y al radio de dos círculos. Lea un punto de coordenadas (a,b). Determina si (a,b) está contenido: a) dentro del círculo 1; b) dentro del círculo 2; c) dentro de ambos círculos; d) fuera de ambos círculos. Recordemos que el círculo es el lugar geométrico de los puntos del plano cuya distancia a otro punto fijo, llamado centro, es menor o igual que una cantidad constante, llamada radio. "
   ]
  },
  {
   "cell_type": "code",
   "execution_count": 4,
   "metadata": {},
   "outputs": [
    {
     "name": "stdout",
     "output_type": "stream",
     "text": [
      "Escriba la coordenada x del primer círculo: 1\n",
      "Escriba la coordenada y del primer círculo: 3\n",
      "Escriba el radio del primer círculo: 5\n",
      "Escriba la coordenada x del segundo círculo: 5\n",
      "Escriba la coordenada y del segundo círculo: 6\n",
      "Escriba el radio del segundo círculo: 4\n",
      "Escriba la coordenada a: 3\n",
      "Escriba la coordenada b: 2\n",
      "Las coordenadas están dentro del círculo 1\n"
     ]
    }
   ],
   "source": [
    "x1=int(input('Escriba la coordenada x del primer círculo: '))\n",
    "y1=int(input('Escriba la coordenada y del primer círculo: '))\n",
    "r1=int(input('Escriba el radio del primer círculo: '))\n",
    "\n",
    "x2=int(input('Escriba la coordenada x del segundo círculo: '))\n",
    "y2=int(input('Escriba la coordenada y del segundo círculo: '))\n",
    "r2=int(input('Escriba el radio del segundo círculo: '))\n",
    "\n",
    "coordenada_a=int(input('Escriba la coordenada a: '))\n",
    "coordenada_b=int(input('Escriba la coordenada b: '))\n",
    "\n",
    "dist_1=((x1-coordenada_a)**2+(y1-coordenada_b)**2)**(1/2) #Se calcula la distancia\n",
    "                                                          #del centro del círculo\n",
    "                                                          #1 a las coordenadas\n",
    "                                                          #ingresadas\n",
    "dist_2=((x2-coordenada_a)**2+(y2-coordenada_b)**2)**(1/2) #Se calcula la distancia\n",
    "                                                          #del centro del círculo\n",
    "                                                          #2 a las coordenadas\n",
    "                                                          #ingresadas\n",
    "\n",
    "if dist_1<r1 and dist_2>r2:\n",
    "    print('Las coordenadas están dentro del círculo 1')\n",
    "    \n",
    "elif dist_1>r1 and dist_2<r2:\n",
    "    print('Las coordenadas están dentro del círculo 2')\n",
    "    \n",
    "elif dist_1<r1 and dist_2<r2:\n",
    "    print('Las coordenadas están dentro de ambos círculos')\n",
    "\n",
    "else:\n",
    "    print('Las coordenadas están fuera de ambos círculos')\n",
    "#Se evalua si la distancia está dentro del radio 1 y fuera del radio 2 o fuera\n",
    "#del radio 1 y dentro del radio 2 o dentro de ambos círculos o por fuera de\n",
    "#ambos"
   ]
  },
  {
   "cell_type": "markdown",
   "metadata": {},
   "source": [
    "Sin utilizar el método .upper() para cadenas, escribir un programa que lea una cadena de texto y la imprima en mayúscula. Tenga en cuenta que el programa debe aceptar las letras con tilde, la ñ y la ü. "
   ]
  },
  {
   "cell_type": "code",
   "execution_count": 7,
   "metadata": {},
   "outputs": [
    {
     "name": "stdout",
     "output_type": "stream",
     "text": [
      "Escriba una cadena de texto para escribir en mayúscula: holaaaa bebe como estas\n",
      "HOLAAAA\u0000BEBE\u0000COMO\u0000ESTAS\n"
     ]
    }
   ],
   "source": [
    "cadena1=input('Escriba una cadena de texto para escribir en mayúscula: ')\n",
    "#Variable que guarda una cadena de texto\n",
    "mayuscula=''\n",
    "#Cadena vacía que adjunta las letras mayúsculas\n",
    "\n",
    "for i in range(len(cadena1)):    #Se itera en la longitud de la cadena y se\n",
    "    letra=ord(cadena1[i])-32     #utilizan los comandos ord y chr para este\n",
    "    mayus=chr(letra)             #objetivo, ya que las letras mayúsculas están\n",
    "    mayuscula+=mayus             #a -32 en ord de sus correspondientes minúsculas\n",
    "print(mayuscula)"
   ]
  },
  {
   "cell_type": "markdown",
   "metadata": {},
   "source": [
    "Escribir un programa que reciba una cadena de texto y reporte: \n",
    " \n",
    " a) cuántas letras vocales en mayúscula se entraron;   b) cuántas letras con tilde se entraron (minúsculas y mayúsculas);  c) cuántos dígitos se entraron,   d) cuántos espacios se entraron;  e) cuántas palabras reservadas se entraron. "
   ]
  },
  {
   "cell_type": "code",
   "execution_count": 8,
   "metadata": {},
   "outputs": [
    {
     "name": "stdout",
     "output_type": "stream",
     "text": [
      "Ingrese una cadena de texto: HOLA belló JÁJÁ 83748748 for\n",
      "Se entraron 2 letras vocales en mayúscula\n",
      "Se entraron 3 letras con tilde\n",
      "Se entraron 8 digitos\n",
      "Se entraron 4 espacios\n",
      "Se entraron 1 palabras reservadas\n"
     ]
    }
   ],
   "source": [
    "cadena2=input('Ingrese una cadena de texto: ')\n",
    "vocales='AEIOU'\n",
    "cont_voc=0\n",
    "tildes='ÁÉÍÓÚáéíóú'\n",
    "cont_til=0\n",
    "digitos='0123456789'\n",
    "cont_dig=0\n",
    "espacio=' '\n",
    "cont_esp=0\n",
    "reservadas=['False','None','True','and','as','assert','break','class',\\\n",
    "            'continue','def','del','elif','else','except','finally','for',\\\n",
    "            'from','global','if','import','in','is','lambda','nonlocal','not',\\\n",
    "            'or','pass','raise','return','try','while','with','yield']\n",
    "cont_reser=0\n",
    "#Se crearon las variables a evaluar con su respectivo contador\n",
    "\n",
    "for i in range(len(cadena2)):\n",
    "    if cadena2[i] in vocales:\n",
    "        cont_voc+=1\n",
    "    elif cadena2[i] in tildes:\n",
    "        cont_til+=1\n",
    "    elif cadena2[i] in digitos:\n",
    "        cont_dig+=1\n",
    "    elif cadena2[i]==espacio:\n",
    "        cont_esp+=1\n",
    "#Se utilizo el comando in para que mientras se itera en la longitud de la cadena\n",
    "#se evalue si está o no en cada variable creada. Si cumple la condición se\n",
    "#suma a su respectivo contador\n",
    "a=cadena2.split()            #Convierte la cadena en una lista\n",
    "for n, i in enumerate(a):    #Se itera en los elementos de la lista y se compara\n",
    "    if i in reservadas:      #con las palabras reservadas. Si cumple se suma\n",
    "        cont_reser+=1        #al contador \n",
    "        \n",
    "print(f'Se entraron {cont_voc} letras vocales en mayúscula')\n",
    "print(f'Se entraron {cont_til} letras con tilde')\n",
    "print(f'Se entraron {cont_dig} digitos')\n",
    "print(f'Se entraron {cont_esp} espacios')\n",
    "print(f'Se entraron {cont_reser} palabras reservadas')"
   ]
  },
  {
   "cell_type": "markdown",
   "metadata": {},
   "source": [
    "Hacer un programa que lea dos palabras (podrían estar en mayúscula o minúscula) y determine cual está primero en el diccionario. El programa debe soportar letras con tilde, la ü y la ñ. "
   ]
  },
  {
   "cell_type": "code",
   "execution_count": 13,
   "metadata": {},
   "outputs": [
    {
     "name": "stdout",
     "output_type": "stream",
     "text": [
      "Ingrese una palabra en mayúscula o minúscula: sarita\n",
      "Ingrese otra palabra en mayúscula o minúscula: vallejo\n",
      "La primer palabra está primero en el diccionario\n"
     ]
    }
   ],
   "source": [
    "from unidecode import unidecode #Se importa la librería para ayudar a quitar\n",
    "                                #todas las tildes, diéresis...etc.\n",
    "\n",
    "cadena3=input('Ingrese una palabra en mayúscula o minúscula: ')\n",
    "cadena4=input('Ingrese otra palabra en mayúscula o minúscula: ')\n",
    "\n",
    "if cadena3[0].isupper()==True:\n",
    "    cadena3=cadena3.lower()\n",
    "if cadena4[0].isupper()==True:\n",
    "    cadena4=cadena4.lower()\n",
    "#Si las cadenas ingresadas están en mayúscula se convierten a minúscula para\n",
    "#comparar más fácilmente su ubicación en el diccionario\n",
    "    \n",
    "cadena3=unidecode(cadena3)   #Se quitan todos los símbolos y se convierte a \n",
    "                             #letras normales\n",
    "cadena4=unidecode(cadena4)   #Se quitan todos los símbolos y se convierte a \n",
    "                             #letras normales\n",
    "\n",
    "if cadena3[0]<cadena4[0]:\n",
    "    print('La primer palabra está primero en el diccionario')\n",
    "elif cadena3[0]>cadena4[0]:\n",
    "    print('La segunda palabra está primero en el diccionario')\n",
    "elif cadena3[:]==cadena4[:]:\n",
    "    print('Las dos palabras son iguales')\n",
    "elif cadena3[0]==cadena4[0] and cadena3[1]<cadena4[1]:\n",
    "    print('La primer palabra está primero en el diccionario')\n",
    "else:\n",
    "    print('La segunda palabra está primero en el diccionario')\n",
    "#Se compara la primera posición de ambas cadenas al tenerlas en letras\n",
    "#minúsculas del común. Si ambas letras son iguales se evalúa la segunda."
   ]
  },
  {
   "cell_type": "markdown",
   "metadata": {},
   "source": [
    "Escribir un programa que lea una cadena de texto y la imprima como un triángulo. "
   ]
  },
  {
   "cell_type": "code",
   "execution_count": 1,
   "metadata": {},
   "outputs": [
    {
     "name": "stdout",
     "output_type": "stream",
     "text": [
      "Escriba una cadena de texto para imprimir como un triángulo: holasaritacomo estas bien y tu\n",
      "\n",
      "El texto resultante es: \n",
      "\n",
      "    h\n",
      "   ola\n",
      "  sarit\n",
      " acomoes\n",
      "tasbienyt\n",
      "    u    \n"
     ]
    }
   ],
   "source": [
    "cadena5=input('Escriba una cadena de texto para imprimir como un triángulo: ')\n",
    "cadena5=cadena5.replace(' ','')\n",
    "#Variable que guarda una cadena de texto y se le quitan sus espacios\n",
    "\n",
    "filas=int((len(cadena5))**(0.5)) #Se cálcula el número de filas\n",
    "triangulo=''                     #Cadena vacía para agregar el triángulo\n",
    "\n",
    "for i in range(1, filas+1):\n",
    "    triangulo+='\\n'+' '*(filas-i)+cadena5[(i-1)**2:i**2]\n",
    "#Se baja de renglón en cada iteración y se agregan los espacios correspondientes\n",
    "#a la fila-1\n",
    "    \n",
    "triangulo+='\\n'+ cadena5[filas**2: len(cadena5)].center((filas**2)-\\\n",
    "                        ((filas-1)**2),' ')\n",
    "#El sobrante de la última fila se centra respecto a la fila anterior\n",
    "print(f\"\\nEl texto resultante es: \\n{triangulo}\")"
   ]
  },
  {
   "cell_type": "markdown",
   "metadata": {},
   "source": [
    "Leer una cadena de texto y organice alfabéticamente cada una de las letras que la componen, repitiendo cada una tantas veces como se encuentra. Por ejemplo, la cadena ‘tarea importante’ será ‘aaaeeimnoprrttt’. (Note que no se incluyen los espacios)."
   ]
  },
  {
   "cell_type": "code",
   "execution_count": 14,
   "metadata": {},
   "outputs": [
    {
     "name": "stdout",
     "output_type": "stream",
     "text": [
      "Ingrese una cadena de texto para organizar alfabéticamente sus letras: sarita vallejo ramirez\n",
      "aaaaeeiijllmorrrstvz\n"
     ]
    }
   ],
   "source": [
    "cadena6=input('Ingrese una cadena de texto para organizar alfabéticamente\\\n",
    " sus letras: ')\n",
    "#Variable que guarda una cadena de texto\n",
    "cadena6=cadena6.replace(' ','')\n",
    "cadena6=list(cadena6)\n",
    "#Se le quitan sus espacios y se convierte a una lista\n",
    "organizado=sorted(cadena6)\n",
    "#Se organiza la lista con el comando sorted\n",
    "print(''.join(organizado))\n",
    "#Se convierte de nuevo a cadena de texto"
   ]
  },
  {
   "cell_type": "markdown",
   "metadata": {},
   "source": [
    "Leer una lista de números enteros y enumerar cuantos elementos se repiten exactamente dos veces. Utilizar para tal fin el método count() de listas. "
   ]
  },
  {
   "cell_type": "code",
   "execution_count": 15,
   "metadata": {},
   "outputs": [
    {
     "name": "stdout",
     "output_type": "stream",
     "text": [
      "Diga cuántos números tiene la lista: 5\n",
      "Digite el número 1: 2\n",
      "Digite el número 2: 2\n",
      "Digite el número 3: 3\n",
      "Digite el número 4: 3\n",
      "Digite el número 5: 4\n",
      "La lista es:  ['2', '2', '3', '3', '4']\n",
      "2 elementos se repiten exactamente 2 veces\n"
     ]
    }
   ],
   "source": [
    "lista1=[]                                                #Lista vacía\n",
    "Len=int(input('Diga cuántos números tiene la lista: '))  #Tamaño de la lista\n",
    "repetidos_2=[]\n",
    "\n",
    "for elemento in range(Len):\n",
    "    lista1.append(input(f'Digite el número {elemento+1}: ')) #Creación lista\n",
    "print('La lista es: ',lista1)\n",
    "\n",
    "\n",
    "for n, i in enumerate(lista1):\n",
    "    if lista1.count(i)==2:\n",
    "        repetidos_2.append(i)\n",
    "#Se itera en los elementos de la lista para saber cuantas veces está cada elemento\n",
    "#y se agregan a la lista aquellos que se encuentran 2 veces\n",
    "        \n",
    "for repetido in repetidos_2:\n",
    "    while repetidos_2.count(repetido)>1:\n",
    "        repetidos_2.remove(repetido)\n",
    "#Si el número se encuentra en la lista más de una vez, este se remueve\n",
    "        \n",
    "print(f'{len(repetidos_2)} elementos se repiten exactamente 2 veces')"
   ]
  },
  {
   "cell_type": "markdown",
   "metadata": {},
   "source": [
    "Leer una lista de números ya ordenados de forma ascendente y verificar que dicha lista está ordenada. Luego, leer un número e insertarlo en la lista en la posición que le corresponde a dicho número. "
   ]
  },
  {
   "cell_type": "code",
   "execution_count": 16,
   "metadata": {},
   "outputs": [
    {
     "name": "stdout",
     "output_type": "stream",
     "text": [
      "Diga cuántos números tiene la lista: 4\n",
      "Digite el número 1: 1\n",
      "Digite el número 2: 4\n",
      "Digite el número 3: 6\n",
      "Digite el número 4: 9\n",
      "\n",
      "La lista es:  [1.0, 4.0, 6.0, 9.0]\n",
      "Ingresar un número para ingresar en su posición correspondiente: 4.1\n",
      "\n",
      "La nueva lista es:  [1.0, 4.0, 4.1, 6.0, 9.0]\n"
     ]
    }
   ],
   "source": [
    "lista2=[]                                                #Lista vacía\n",
    "Len=int(input('Diga cuántos números tiene la lista: '))  #Tamaño de la lista\n",
    "dato_ant=0                                               #Variable para verificar\n",
    "                                                         #el ordenamiento de la lista\n",
    "for elemento in range(Len):\n",
    "    lista2.append(float(input(f'Digite el número {elemento+1}: '))) #Creación lista\n",
    "print('\\nLa lista es: ',lista2)\n",
    "\n",
    "for i in lista2:\n",
    "    if i<dato_ant:\n",
    "        print('\\nLa lista ingresada es incorrecta, comience de nuevo.')\n",
    "        break\n",
    "    dato_ant=i\n",
    "#El ciclo anterior verifica el orden ascendente de la lista\n",
    "    \n",
    "else:\n",
    "    num=float(input('Ingresar un número para ingresar en su posición corresp\\\n",
    "ondiente: '))\n",
    "    lista2.append(num)\n",
    "    lista2.sort()\n",
    "#Si la lista es correcta, se procede a pedir el número a insertar, agregarlo \n",
    "#a la lista y ordenarla\n",
    "    print('\\nLa nueva lista es: ',lista2)"
   ]
  },
  {
   "cell_type": "markdown",
   "metadata": {},
   "source": [
    "Leer una lista y determinar cuál es el segundo elemento más grande de dicha lista. No utilice ningún tipo de algoritmo de ordenamiento para realizar este ejercicio. "
   ]
  },
  {
   "cell_type": "code",
   "execution_count": 18,
   "metadata": {},
   "outputs": [
    {
     "name": "stdout",
     "output_type": "stream",
     "text": [
      "Diga cuántos elementos tiene la lista: 4\n",
      "Digite el número 1: 2\n",
      "Digite el número 2: 7\n",
      "Digite el número 3: 20\n",
      "Digite el número 4: 45\n",
      "\n",
      "La lista es:  [2, 7, 20, 45]\n",
      "\n",
      "El segundo elemento más grande de la lista es:  20\n"
     ]
    }
   ],
   "source": [
    "lista3=[]                                                  #Lista vacía\n",
    "Len=int(input('Diga cuántos elementos tiene la lista: '))  #Tamaño de la lista\n",
    "\n",
    "for elemento in range(Len):\n",
    "    lista3.append(int(input(f'Digite el número {elemento+1}: '))) #Creación lista\n",
    "print('\\nLa lista es: ',lista3)\n",
    "\n",
    "lista=lista3.copy()           #Se halla el elemento más grande y se remueve de\n",
    "lista.remove(max(lista))      #la lista, se vuelve  a encontrar el elemento\n",
    "mayor_2=max(lista)            #más grande y sería el segundo mayor\n",
    "\n",
    "print(f'\\nEl segundo elemento más grande de la lista es: ',mayor_2)"
   ]
  },
  {
   "cell_type": "markdown",
   "metadata": {},
   "source": [
    "Leer una matriz cuadrada A, obtener su matriz triangular superior asociada U y determinar qué fila de U contiene la mayor cantidad de unos. "
   ]
  },
  {
   "cell_type": "code",
   "execution_count": 19,
   "metadata": {},
   "outputs": [
    {
     "name": "stdout",
     "output_type": "stream",
     "text": [
      "Escriba el orden de su matriz cuadrada: 2\n",
      "Escriba el elemento #1 de la 1 fila: 1\n",
      "Escriba el elemento #2 de la 1 fila: 2\n",
      "Escriba el elemento #1 de la 2 fila: 3\n",
      "Escriba el elemento #2 de la 2 fila: 4\n",
      "\n",
      "La matriz triangular superior asociada U es: \n",
      "[1, 2]\n",
      "[0, 4]\n",
      "\n",
      "La fila de la matriz U que contiene la mayor cantidad de unos es la fila: 1\n"
     ]
    }
   ],
   "source": [
    "import copy          #Se importo esta librería para poder copiar la matriz\n",
    "\n",
    "matriz_A=[]          #Matriz ingresada por el usuario\n",
    "lista_1=[]           #Lista que adjuntara la cantidad de unos en cada fila\n",
    "\n",
    "orden=int(input('Escriba el orden de su matriz cuadrada: '))  #Orden de la\n",
    "                                                              #matriz cuadrada\n",
    "for i in range(orden):\n",
    "    matriz_A.append([])\n",
    "    for j in range(orden):\n",
    "        matriz_A[i].append(int(input(f'Escriba el elemento #{j+1} de la {i+1}\\\n",
    " fila: ')))\n",
    "#Con el ciclo anterior se creo la matriz A\n",
    "\n",
    "matriz_U=copy.deepcopy(matriz_A)   #Se copio la matriz A para poder modificarla\n",
    "\n",
    "for i in range(orden):\n",
    "    for j in range(orden):\n",
    "        if i<=j:\n",
    "            matriz_U[i][j]=matriz_A[i][j]\n",
    "        else:\n",
    "            matriz_U[i][j]=0\n",
    "print('\\nLa matriz triangular superior asociada U es: ')            \n",
    "for i in matriz_U:\n",
    "    print(i)\n",
    "#El ciclo anterior evalua cada posición de la matriz y si está de la diagonal\n",
    "#para arriba se deja igual y el resto, es decir por debajo, se convierte en cero\n",
    "\n",
    "for i in range(len(matriz_U)):\n",
    "    cont=matriz_U[i].count(1)\n",
    "    lista_1.append(cont)\n",
    "#El ciclo anterior cuenta la cantidad de unos de cada fila y los agrega a una lista\n",
    "\n",
    "maximo=max(lista_1)\n",
    "pos=lista_1.index(maximo)\n",
    "#Las operaciones anteriores son para saber el mayor número de unos y donde se\n",
    "#encuentra\n",
    "\n",
    "for i in range(len(lista_1)):\n",
    "    if i==pos:\n",
    "        print(f'\\nLa fila de la matriz U que contiene la mayor cantidad de\\\n",
    " unos es la fila: {i+1}')\n",
    "#Por último, se ubica el mayor número de unos debido a su posición y como\n",
    "#las iteraciones empiezan en cero y las filas desde uno, la fila será igual\n",
    "#a la iteración más uno"
   ]
  },
  {
   "cell_type": "markdown",
   "metadata": {},
   "source": [
    "Leer una lista e identifique la sublista más larga dentro de dicha lista que se encuentra ordenada ascendentemente."
   ]
  },
  {
   "cell_type": "code",
   "execution_count": 22,
   "metadata": {},
   "outputs": [
    {
     "name": "stdout",
     "output_type": "stream",
     "text": [
      "Diga cuántos elementos tiene la lista: 4\n",
      "Digite el número 1: 3\n",
      "Digite el número 2: 6\n",
      "Digite el número 3: 9\n",
      "Digite el número 4: 2\n",
      "\n",
      "La lista es:  ['3', '6', '9', '2']\n",
      "La mayor sublista ordenada ascendentemente es: ['3', '6', '9']"
     ]
    }
   ],
   "source": [
    "lista4=[]             #Lista vacía\n",
    "long_a=0              #Variable que dice la longitud de la lista a crear\n",
    "long_b=0              #Variable que compara longitudes para crear sublistas\n",
    "lista_auxiliar=list() #Varuavle donde se guardan las sublistas\n",
    "n=0                   #Variable que cuenta las posiciones de la lista principal\n",
    "\n",
    "tamaño=int(input('Diga cuántos elementos tiene la lista: '))  #Tamaño de la lista\n",
    "\n",
    "for elemento in range(tamaño):\n",
    "    lista4.append(input(f'Digite el número {elemento+1}: ')) #Creación lista\n",
    "print('\\nLa lista es: ',lista4)\n",
    "\n",
    "\n",
    "while len(lista4)>0: \n",
    "    if n==len(lista4)-1:      #Condición para el último número\n",
    "        long_a=n+1            #la longitud de la sublista es su posición + 1\n",
    "        if long_a > long_b: \n",
    "            lista_auxiliar=lista4[:n+1] #Si no hay sublista más larga, guardar esos números en la sublista auxiliar\n",
    "            long_b=long_a   #Long b será la mayor lista y long a cambiará de valor para seguir comparando\n",
    "        lista4=lista4[n+1:] #Se quita de la lista original los números que ya fueron evaluados\n",
    "        n=0                 #Se actualiza lector de posiciones a cero\n",
    "    elif lista4[n]>lista4[n+1]: #Si el siguiente de la lista es menor que el anterior, no hay más orden ascendente\n",
    "        long_a=n+1              #Guarda la longitud de la sublista de números ascendentes\n",
    "        if long_a > long_b:     #Si la longitud guardada es mayor a alguna de las leídas anteriormente\n",
    "            lista_auxiliar=lista4[:n+1] #Guardar números en nueva sublista\n",
    "            long_b=long_a               #Actualizar valor de long b para siguientes comparaciones\n",
    "        lista4=lista4[n+1:]             #Comenzar una nueva lista desde donde iniciría un nuevo orden\n",
    "        n=0                             #Volver a iniciar las posiciones en cero\n",
    "    else:\n",
    "         n+=1                           #Aumentar una posición para seguir evaluando\n",
    "print(f'La mayor sublista ordenada ascendentemente es: {lista_auxiliar}', \n",
    "      end='')"
   ]
  },
  {
   "cell_type": "markdown",
   "metadata": {},
   "source": [
    "Hacer un programa que lea una matriz y la rote 90 grados en sentido antihorario. Imprimir la matriz resultante. \n",
    "Repita el mismo ejercicio utilizando el módulo numpy. "
   ]
  },
  {
   "cell_type": "code",
   "execution_count": 23,
   "metadata": {},
   "outputs": [
    {
     "name": "stdout",
     "output_type": "stream",
     "text": [
      "Digite el # de filas de la matriz: 2\n",
      "Digite el # de columnas de la matriz: 3\n",
      "Escriba el elemento #1 de la 1 fila: 3\n",
      "Escriba el elemento #2 de la 1 fila: 4\n",
      "Escriba el elemento #3 de la 1 fila: 5\n",
      "Escriba el elemento #1 de la 2 fila: 7\n",
      "Escriba el elemento #2 de la 2 fila: 6\n",
      "Escriba el elemento #3 de la 2 fila: 5\n",
      "\n",
      "La matriz ingresada es: \n",
      "[3, 4, 5]\n",
      "[7, 6, 5]\n",
      "\n",
      "La matriz rotada es: \n",
      "[5, 5]\n",
      "[4, 6]\n",
      "[3, 7]\n",
      "Digite el # de filas de la matriz: 2\n",
      "Digite el # de columnas de la matriz: 2\n",
      "Escriba el elemento #1 de la 1 fila: 1\n",
      "Escriba el elemento #2 de la 1 fila: 2\n",
      "Escriba el elemento #1 de la 2 fila: 3\n",
      "Escriba el elemento #2 de la 2 fila: 4\n",
      "\n",
      "La matriz ingresada es: \n",
      " [[1 2]\n",
      " [3 4]]\n",
      "\n",
      "La matriz rotada es: \n",
      " [[2 4]\n",
      " [1 3]]\n"
     ]
    }
   ],
   "source": [
    "matriz=[]   #Matriz que guardara los datos ingresados por el usuario\n",
    "rotada=[]   #Matriz que guardara la matriz inicial rotada 90 grados antihorario\n",
    "\n",
    "filas=int(input('Digite el # de filas de la matriz: '))\n",
    "columnas=int(input('Digite el # de columnas de la matriz: '))\n",
    "\n",
    "for i in range(filas):\n",
    "    matriz.append([])\n",
    "    for j in range(columnas):\n",
    "        matriz[i].append(int(input(f'Escriba el elemento #{j+1} de la {i+1}\\\n",
    " fila: ')))\n",
    "#Con el ciclo anterior se creo la matriz, iterando en las filas y columnas \n",
    "#ingresadas\n",
    "        \n",
    "print('\\nLa matriz ingresada es: ')            \n",
    "for i in matriz:\n",
    "    print(i)\n",
    "#Este pequeño ciclo es para ilustrar las filas en forma de matriz\n",
    "    \n",
    "for i in range(columnas):\n",
    "    rotada.append([])\n",
    "    for j in range(filas):\n",
    "        rotada[i].append(matriz[j][columnas-1-i])\n",
    "#Se crea una nueva matriz, pero se invierten el número de columnas y filas,\n",
    "#también se opera con base en las posiciones de la matriz inicial\n",
    "\n",
    "print('\\nLa matriz rotada es: ')            \n",
    "for i in rotada:\n",
    "    print(i)\n",
    "#Este pequeño ciclo es para ilustrar las filas en forma de matriz\n",
    "    \n",
    "#%%UTILIZANDO NUMPY\n",
    "import numpy as np   #Para utilizar el comando se debe primero importar la\n",
    "                     #librería\n",
    "matriz=[]   #Matriz que guardara los datos ingresados por el usuario\n",
    "\n",
    "filas=int(input('Digite el # de filas de la matriz: '))\n",
    "columnas=int(input('Digite el # de columnas de la matriz: '))\n",
    "\n",
    "for i in range(filas):\n",
    "    matriz.append([])\n",
    "    for j in range(columnas):\n",
    "        matriz[i].append(int(input(f'Escriba el elemento #{j+1} de la {i+1}\\\n",
    " fila: ')))\n",
    "\n",
    "matriz_ini=np.array(matriz)\n",
    "print('\\nLa matriz ingresada es: \\n',matriz_ini)            \n",
    "\n",
    "matriz_rot=np.rot90(matriz_ini)\n",
    "print('\\nLa matriz rotada es: \\n',matriz_rot)"
   ]
  },
  {
   "cell_type": "code",
   "execution_count": null,
   "metadata": {},
   "outputs": [],
   "source": []
  }
 ],
 "metadata": {
  "kernelspec": {
   "display_name": "Python 3",
   "language": "python",
   "name": "python3"
  },
  "language_info": {
   "codemirror_mode": {
    "name": "ipython",
    "version": 3
   },
   "file_extension": ".py",
   "mimetype": "text/x-python",
   "name": "python",
   "nbconvert_exporter": "python",
   "pygments_lexer": "ipython3",
   "version": "3.7.3"
  }
 },
 "nbformat": 4,
 "nbformat_minor": 2
}
